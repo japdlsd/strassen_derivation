{
 "cells": [
  {
   "cell_type": "markdown",
   "source": [
    "We have a matrix split into $N^2$ blocks.\n",
    "We then create $M$ matrix products of linear combinations of individual blocks.\n",
    "We then evaluate each of the final blocks as a linear combinations\n",
    "of these $M$ matrix products."
   ],
   "metadata": {
    "collapsed": false
   }
  },
  {
   "cell_type": "code",
   "execution_count": 118,
   "metadata": {
    "collapsed": true,
    "pycharm": {
     "name": "#%%\n"
    }
   },
   "outputs": [
    {
     "name": "stdout",
     "output_type": "stream",
     "text": [
      "[[1 2]\n",
      " [3 4]]\n",
      "[0.91498552 0.59913503 0.90286203 0.12203732 0.59619017 0.66789541\n",
      " 0.79670486 0.27500439 0.36144453 0.32521796 0.53848903 0.81570697\n",
      " 0.53178401 0.62097164 0.97942108 0.87594823 0.42096903 0.0130436\n",
      " 0.01978726 0.96856409 0.22852638 0.40576923 0.03188876 0.75602626\n",
      " 0.36947713 0.85356683 0.01944917 0.32151361 0.35719585 0.15546641\n",
      " 0.63761261 0.19931915 0.48440623 0.66803621 0.24747403 0.93476971]\n",
      "3.775291049965919\n"
     ]
    }
   ],
   "source": [
    "import numpy as np\n",
    "from scipy.optimize import minimize, Bounds\n",
    "\n",
    "\n",
    "class Model:\n",
    "    def __init__(self, blocks_per_side=2, multiplications_count=7):\n",
    "        self.n = blocks_per_side\n",
    "        self.m = multiplications_count\n",
    "\n",
    "    def expected_cs(self):\n",
    "        cs = np.zeros((self.n**2, self.n**4))\n",
    "        for i in np.arange(self.n):\n",
    "            for j in np.arange(self.n):\n",
    "                for k in np.arange(self.n):\n",
    "                    # c[i, k] += a[i, j] * b[j, k]\n",
    "                    cs[i * self.n + j, i * self.n**3 + j * self.n**2 + j * self.n + k] = 1\n",
    "        return cs\n",
    "\n",
    "    def diff(self, ls, rs, qs):\n",
    "        ms = np.zeros((self.m, self.n**4))\n",
    "        for i in np.arange(self.m):\n",
    "            ms[i] = np.outer(ls[i], rs[i]).flatten()\n",
    "        #print(ms)\n",
    "\n",
    "        ds = np.zeros((self.n**2, self.n**4))\n",
    "        for i in np.arange(self.n**2):\n",
    "            ds[i] = qs[i].dot(ms)\n",
    "        #print(ds)\n",
    "\n",
    "        cs = self.expected_cs()\n",
    "        res = np.linalg.norm(cs - ds)\n",
    "        return res\n",
    "\n",
    "    def norm(self, x):\n",
    "        return np.linalg.norm(x, ord=1)\n",
    "\n",
    "    def target(self, x):\n",
    "        ls, rs, qs = self.unflatten_x(x)\n",
    "        return self.diff(ls, rs, qs) + 0.02 * self.norm(x)\n",
    "\n",
    "    def unflatten_x(self, x):\n",
    "        ls_raw = x[:self.m * (self.n ** 2)]\n",
    "        rs_raw = x[self.m * (self.n ** 2):self.m * (self.n ** 2) + self.m * (self.n ** 2)]\n",
    "        qs_raw = x[self.m * (self.n ** 2) * 2:]\n",
    "        ls = np.reshape(ls_raw, (self.m, self.n ** 2))\n",
    "        rs = np.reshape(rs_raw, (self.m, self.n ** 2))\n",
    "        qs = np.reshape(qs_raw, (self.n ** 2, self.m))\n",
    "        return ls, rs, qs\n",
    "\n",
    "    def rand_x0(self):\n",
    "        return np.random.rand(self.m*(self.n**2)*2 + self.n**2 * self.m)\n",
    "\n",
    "model = Model(2, 3)\n",
    "\n",
    "ls = np.array([[1, 0, 0, 0], [0, 1, 0, 1], [1, 2, 0, 0]])\n",
    "rs = np.array([[1, 0, 0, 0], [0, 1, 0, 1], [1, 2, 0, 0]])\n",
    "qs = np.array([[0, 0, 0], [0, 1, 0], [1, 0, 1], [1, 1, 1]])\n",
    "\n",
    "model.diff(ls, rs, qs)\n",
    "\n",
    "print(np.reshape(np.array([1,2,3,4]), (2,2)))\n",
    "print(model.rand_x0())\n",
    "print(model.target(model.rand_x0()))"
   ]
  },
  {
   "cell_type": "code",
   "execution_count": 119,
   "outputs": [
    {
     "name": "stdout",
     "output_type": "stream",
     "text": [
      "      fun: 0.41804011366849264\n",
      " hess_inv: <96x96 LbfgsInvHessProduct with dtype=float64>\n",
      "      jac: array([ 0.23382278, -0.07826043, -0.27157915, -0.02825604, -0.07726841,\n",
      "       -0.02812641, -0.15111885, -0.06013128, -0.019833  ,  0.03909088,\n",
      "        0.18135071, -0.07778555,  0.15405894,  0.10679092,  0.25392767,\n",
      "        0.16369014,  0.02000003,  0.01999976,  0.02000018,  0.02000014,\n",
      "       -0.01407942, -0.02250291,  0.01191295,  0.02055701,  0.06032639,\n",
      "        0.18063706, -0.05611638,  0.02072166, -0.03570338, -0.30441186,\n",
      "        0.03241485, -0.03728237, -0.06476601,  0.21207471,  0.04670129,\n",
      "        0.05509143,  0.06325954,  0.06341789, -0.0096786 ,  0.02038772,\n",
      "        0.07607305,  0.08529452, -0.19348138,  0.15899715,  0.11092112,\n",
      "        0.11136718, -0.06613695, -0.01920178, -0.0200001 , -0.02000003,\n",
      "       -0.01999998,  0.02000005, -0.01806968,  0.00228639, -0.02293325,\n",
      "       -0.02554544, -0.02098349,  0.03324456, -0.01346462, -0.01345551,\n",
      "       -0.07345048, -0.00263751, -0.02463538, -0.02349305,  0.03346635,\n",
      "        0.11251773, -0.33316012, -0.15434769,  0.02000003,  0.01983333,\n",
      "       -0.04999438,  0.02554934, -0.0783924 , -0.00127242, -0.40687232,\n",
      "       -0.04387992,  0.02000001,  0.02077659,  0.01605868, -0.01324498,\n",
      "       -0.18513183, -0.04035546, -0.18128101,  0.00831644,  0.02000002,\n",
      "        0.02275817,  0.15592089, -0.18008477,  0.4313858 ,  0.04903483,\n",
      "        0.22356164, -0.01694531, -0.01999997, -0.02591876,  0.01965145,\n",
      "       -0.03788973])\n",
      "  message: 'CONVERGENCE: REL_REDUCTION_OF_F_<=_FACTR*EPSMCH'\n",
      "     nfev: 87494\n",
      "      nit: 702\n",
      "     njev: 902\n",
      "   status: 0\n",
      "  success: True\n",
      "        x: array([ 6.03304702e-06, -9.99921299e-01, -1.17645865e-05, -4.95517161e-04,\n",
      "        9.24318345e-01,  2.71441461e-04, -3.05494049e-04,  3.27806145e-04,\n",
      "        1.09981961e-05,  2.10497909e-06, -1.00000000e+00, -3.05698252e-07,\n",
      "       -9.99886854e-01,  1.53249052e-04,  1.32847596e-04,  1.85393990e-04,\n",
      "        1.25610822e-04,  1.39403235e-04,  1.50721260e-04,  1.65677550e-04,\n",
      "       -1.58482823e-04, -2.11054057e-01,  3.35525624e-04,  1.80475489e-04,\n",
      "        8.40316478e-04, -5.27356491e-05, -3.86066751e-04, -8.48975219e-01,\n",
      "        5.89571443e-04, -5.83978543e-05, -2.70787510e-04,  9.92842544e-01,\n",
      "       -4.74218710e-05,  1.72830321e-06,  9.93335874e-01,  9.93322749e-01,\n",
      "       -5.41894271e-01, -5.43213075e-01,  4.90640092e-05,  6.42186472e-04,\n",
      "       -9.99999416e-01, -9.99999351e-01, -2.34487199e-06, -1.11219244e-07,\n",
      "       -6.65034133e-01, -6.64194500e-01, -3.16792691e-05, -4.08992874e-04,\n",
      "       -1.91579836e-04, -5.45561257e-04, -8.67877989e-04,  1.82316792e-04,\n",
      "       -4.31778035e-04,  5.05252929e-06, -6.18161053e-02, -6.19369165e-02,\n",
      "        2.70158389e-05,  1.93197004e-04,  5.06275237e-01,  5.04993459e-01,\n",
      "       -2.08640179e-05, -1.47095444e-04,  6.41330779e-01,  6.42308086e-01,\n",
      "        1.52744775e-06, -6.81944536e-01,  1.99330777e-04,  9.90173801e-01,\n",
      "        2.24900376e-04,  1.19906011e-04, -2.03221599e-04, -1.36362679e-04,\n",
      "       -1.00000000e+00, -1.56510342e-04, -1.17831306e-06, -1.18312674e-04,\n",
      "        1.82731728e-03,  5.16802578e-01,  9.01461590e-04, -1.56048781e-04,\n",
      "        5.86169280e-04, -1.24085912e-04,  1.00000000e+00, -7.68954755e-05,\n",
      "        1.02108222e-04,  4.46367795e-02,  9.83716061e-04,  6.62352554e-04,\n",
      "       -1.37486738e-05,  3.50624997e-04,  5.46252710e-07,  2.64521971e-04,\n",
      "       -4.00278215e-04, -1.26815062e-04, -8.74187915e-01,  9.80400215e-01])\n",
      "[[ 0.   -1.   -0.   -0.  ]\n",
      " [ 0.92  0.   -0.    0.  ]\n",
      " [ 0.    0.   -1.   -0.  ]\n",
      " [-1.    0.    0.    0.  ]\n",
      " [ 0.    0.    0.    0.  ]\n",
      " [-0.   -0.21  0.    0.  ]\n",
      " [ 0.   -0.   -0.   -0.85]\n",
      " [ 0.   -0.   -0.    0.99]]\n",
      "[[-0.    0.    0.99  0.99]\n",
      " [-0.54 -0.54  0.    0.  ]\n",
      " [-1.   -1.   -0.   -0.  ]\n",
      " [-0.67 -0.66 -0.   -0.  ]\n",
      " [-0.   -0.   -0.    0.  ]\n",
      " [-0.    0.   -0.06 -0.06]\n",
      " [ 0.    0.    0.51  0.5 ]\n",
      " [-0.   -0.    0.64  0.64]]\n",
      "[[ 0.   -0.68  0.    0.99  0.    0.   -0.   -0.  ]\n",
      " [-1.   -0.   -0.   -0.    0.    0.52  0.   -0.  ]\n",
      " [ 0.   -0.    1.   -0.    0.    0.04  0.    0.  ]\n",
      " [-0.    0.    0.    0.   -0.   -0.   -0.87  0.98]]\n"
     ]
    }
   ],
   "source": [
    "model = Model(2, 8)\n",
    "\n",
    "result = minimize(\n",
    "    model.target,\n",
    "    model.rand_x0(),\n",
    "    bounds=Bounds(-1, 1),\n",
    "    options={\"disp\": True, \"gtol\": 1e-8, \"maxfun\": 1e10,},\n",
    ")\n",
    "print(result)\n",
    "ls, rs, qs = model.unflatten_x(result['x'])\n",
    "print(np.around(ls, 2))\n",
    "print(np.around(rs, 2))\n",
    "print(np.around(qs, 2))"
   ],
   "metadata": {
    "collapsed": false,
    "pycharm": {
     "name": "#%%\n"
    }
   }
  }
 ],
 "metadata": {
  "kernelspec": {
   "display_name": "Python 3",
   "language": "python",
   "name": "python3"
  },
  "language_info": {
   "codemirror_mode": {
    "name": "ipython",
    "version": 2
   },
   "file_extension": ".py",
   "mimetype": "text/x-python",
   "name": "python",
   "nbconvert_exporter": "python",
   "pygments_lexer": "ipython2",
   "version": "2.7.6"
  }
 },
 "nbformat": 4,
 "nbformat_minor": 0
}